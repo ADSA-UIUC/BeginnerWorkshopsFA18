{
  "cells": [
    {
      "metadata": {},
      "cell_type": "markdown",
      "source": "<div style=\"display:flex;margin: 20px 10%\">\n<img src=\"http://i.imgur.com/BV0CdHZ.png?2\" alt=\"ADSA logo\" style=\"height:200px;vertical-align:middle\"/>\n</div>\n\n# Fall 2018 ADSA Workshop - Intro to R Programming\n\nThe workshop is adapted from:\n* http://www.tutorialspoint.com/r/r_tutorial.pdf\n* https://stat.ethz.ch/R-manual/R-devel/library/graphics/html/hist.html\n* https://www.tutorialspoint.com/r/r_scatterplots.htm\n* https://stat.ethz.ch/R-manual/R-devel/library/graphics/html/abline.html\n* https://stat.ethz.ch/R-manual/R-devel/library/base/html/replace.html"
    },
    {
      "metadata": {},
      "cell_type": "markdown",
      "source": "-----\n\n## Data Types in R:\n\n There are several data types in R including logical, numeric, integer, complex, and character types. \n \n### Logical:"
    },
    {
      "metadata": {
        "trusted": true
      },
      "cell_type": "code",
      "source": "v <- TRUE\nprint(class(v))",
      "execution_count": null,
      "outputs": []
    },
    {
      "metadata": {},
      "cell_type": "markdown",
      "source": "### Integer and Numeric:\n\nThe difference between these two types is that integers can not have decimals in them. R by default assumes all values with numbers are numeric unless specified with an \"L\""
    },
    {
      "metadata": {
        "trusted": true
      },
      "cell_type": "code",
      "source": "v <- 2\nprint(class(v))",
      "execution_count": null,
      "outputs": []
    },
    {
      "metadata": {
        "trusted": true
      },
      "cell_type": "code",
      "source": "v <- 2L\nprint(class(v))",
      "execution_count": null,
      "outputs": []
    },
    {
      "metadata": {},
      "cell_type": "markdown",
      "source": "### Complex:"
    },
    {
      "metadata": {
        "trusted": true
      },
      "cell_type": "code",
      "source": "v <- 3+2i\nprint(class(v))",
      "execution_count": null,
      "outputs": []
    },
    {
      "metadata": {},
      "cell_type": "markdown",
      "source": "### Character:"
    },
    {
      "metadata": {
        "trusted": true
      },
      "cell_type": "code",
      "source": "v <- \"ADSA\"\nprint(class(v))",
      "execution_count": null,
      "outputs": []
    },
    {
      "metadata": {},
      "cell_type": "markdown",
      "source": "\n------\n## Operations in R:\n\nR allows for multiple different opperations such as:\n\n### Simple Arithmetic:"
    },
    {
      "metadata": {
        "trusted": true
      },
      "cell_type": "code",
      "source": "z <- 2\ny <- 4",
      "execution_count": null,
      "outputs": []
    },
    {
      "metadata": {
        "trusted": true
      },
      "cell_type": "code",
      "source": "y + z",
      "execution_count": null,
      "outputs": []
    },
    {
      "metadata": {
        "trusted": true
      },
      "cell_type": "code",
      "source": "y - z",
      "execution_count": null,
      "outputs": []
    },
    {
      "metadata": {},
      "cell_type": "markdown",
      "source": "### More complex operations:"
    },
    {
      "metadata": {
        "scrolled": true,
        "trusted": true
      },
      "cell_type": "code",
      "source": "sqrt(y)",
      "execution_count": null,
      "outputs": []
    },
    {
      "metadata": {
        "trusted": true
      },
      "cell_type": "code",
      "source": "y ^  (z + y)\ny ** (z + y)",
      "execution_count": null,
      "outputs": []
    },
    {
      "metadata": {},
      "cell_type": "markdown",
      "source": "------\n\n## Assignments in R:\n\nAssign values in R using the '<-' symbol. In R values of the same data type can be stored together using combine represented by 'c' into vectors."
    },
    {
      "metadata": {
        "trusted": true
      },
      "cell_type": "code",
      "source": "values <- c(1,2,3,4)\nvalues",
      "execution_count": null,
      "outputs": []
    },
    {
      "metadata": {
        "trusted": true
      },
      "cell_type": "code",
      "source": "names <- c(\"Jake\", \"Jessica\", \"Rachel\", \"Alex\")\nnames",
      "execution_count": null,
      "outputs": []
    },
    {
      "metadata": {
        "trusted": true
      },
      "cell_type": "code",
      "source": "vector <- c(TRUE,FALSE,23,24,25)\nvector",
      "execution_count": null,
      "outputs": []
    },
    {
      "metadata": {},
      "cell_type": "markdown",
      "source": "Assign values in functions(arguements) using the '=' symbol. "
    },
    {
      "metadata": {
        "trusted": true
      },
      "cell_type": "code",
      "source": "median(x=1:10)\nx # x will be NULL",
      "execution_count": null,
      "outputs": []
    },
    {
      "metadata": {
        "trusted": true
      },
      "cell_type": "code",
      "source": "median(x<-1:10)\nx # has been defined in the user workspace, so it will return 1 2 3 4 5 6 7 8 9 10",
      "execution_count": null,
      "outputs": []
    },
    {
      "metadata": {},
      "cell_type": "markdown",
      "source": "R allows accessing values within vectors by using square brackets [] allowing for us to fetch and modify values in the vector."
    },
    {
      "metadata": {
        "trusted": true
      },
      "cell_type": "code",
      "source": "values[3]\nnames[2]",
      "execution_count": null,
      "outputs": []
    },
    {
      "metadata": {
        "trusted": true
      },
      "cell_type": "code",
      "source": "values[3] <- 2\nvalues",
      "execution_count": null,
      "outputs": []
    },
    {
      "metadata": {},
      "cell_type": "markdown",
      "source": "------\n\n## Lists, Matrixes, and Arrays:\n\nLists are an R-Object type which can contain many different types of elements such as vectors, functions, and even lists inside."
    },
    {
      "metadata": {
        "trusted": true
      },
      "cell_type": "code",
      "source": "list1 <- list(\"Hello\", c(1,2,3), 22, cos)\nprint(list1)",
      "execution_count": null,
      "outputs": []
    },
    {
      "metadata": {},
      "cell_type": "markdown",
      "source": "\nMatrixes are 2D data sets which can be created using vector input."
    },
    {
      "metadata": {
        "trusted": true
      },
      "cell_type": "code",
      "source": "m = matrix(c('a','b','c','d'), nrow = 2, ncol = 2, byrow = \"TRUE\")\nprint(m)",
      "execution_count": null,
      "outputs": []
    },
    {
      "metadata": {},
      "cell_type": "markdown",
      "source": "Arrays allows more dimentions to the array."
    },
    {
      "metadata": {
        "trusted": true
      },
      "cell_type": "code",
      "source": "a <- array(m, dim = c(2,2,2))\nprint(a)",
      "execution_count": null,
      "outputs": []
    },
    {
      "metadata": {
        "collapsed": true
      },
      "cell_type": "markdown",
      "source": "----\n\n# Using R to Visualize Data\n\n\nR's primary use however is using many data points rather than a few, and these data points are usually stored in CSV files. CSV stands for comma seperated values and each line contains a row of values and each column is seperated by a comma. The first line is assumed to be the labels for each column. This data can be visualize in many different ways as we will explore below."
    },
    {
      "metadata": {},
      "cell_type": "markdown",
      "source": "`setwd(dir)`\n\n*dir*: path to the folder you want to be working in"
    },
    {
      "metadata": {
        "trusted": true
      },
      "cell_type": "code",
      "source": "# Set up the current working directory\nsetwd(\"/home/nbuser/library\")",
      "execution_count": null,
      "outputs": []
    },
    {
      "metadata": {
        "trusted": true
      },
      "cell_type": "code",
      "source": "# Read csv into a data frame\ndata = read.csv(\"tips.csv\")\nhead(data)",
      "execution_count": null,
      "outputs": []
    },
    {
      "metadata": {},
      "cell_type": "markdown",
      "source": "\n\nSingle Boxplot:"
    },
    {
      "metadata": {
        "trusted": true
      },
      "cell_type": "code",
      "source": "boxplot(data$totbill, main=\"How Much People Spent For a Meal\", ylab = \"Amount of money spent in US dollars\")",
      "execution_count": null,
      "outputs": []
    },
    {
      "metadata": {},
      "cell_type": "markdown",
      "source": "Exercise: Boxplot for the tips people given for a meal"
    },
    {
      "metadata": {
        "trusted": true
      },
      "cell_type": "code",
      "source": "",
      "execution_count": null,
      "outputs": []
    },
    {
      "metadata": {},
      "cell_type": "markdown",
      "source": "Exercise: Class-conditional Boxplot money spent for a meal by day"
    },
    {
      "metadata": {
        "trusted": true
      },
      "cell_type": "code",
      "source": "",
      "execution_count": null,
      "outputs": []
    },
    {
      "metadata": {},
      "cell_type": "markdown",
      "source": "Exercise: Class-conditional Boxplot based on day or night"
    },
    {
      "metadata": {
        "trusted": true
      },
      "cell_type": "code",
      "source": "",
      "execution_count": null,
      "outputs": []
    },
    {
      "metadata": {},
      "cell_type": "markdown",
      "source": "Class Conditional Boxplot for money spent based on table size: Total and Per Person"
    },
    {
      "metadata": {
        "trusted": true
      },
      "cell_type": "code",
      "source": "boxplot(totbill~size, data = data, main = \"How Much People Spent For a Meal - Table Size\", xlab = \"Number of people for one table\", ylab = \"Amount of money spent in US dollars\")\ndata$billPerPerson = data$totbill / data$size\nboxplot(billPerPerson~size, data = data, main = \"How Much People Spent For a Meal - Table Size\", xlab = \"Number of people for one table\", ylab = \"Amount of money spent per person\")",
      "execution_count": null,
      "outputs": []
    },
    {
      "metadata": {},
      "cell_type": "markdown",
      "source": "### Constructing Histograms:"
    },
    {
      "metadata": {
        "trusted": true
      },
      "cell_type": "code",
      "source": "hist(data$totbill)",
      "execution_count": null,
      "outputs": []
    },
    {
      "metadata": {},
      "cell_type": "markdown",
      "source": "Setting up breakpoints in the histogram"
    },
    {
      "metadata": {
        "trusted": true
      },
      "cell_type": "code",
      "source": "breakpoints <- seq(0, 56, 2)\nhist(data$totbill, breaks = breakpoints, main = \"How Much People Spent For a Meal\", xlab = \"Amount of Money Spent in US Dollars\", ylab = \"Number of Transactions\")",
      "execution_count": null,
      "outputs": []
    },
    {
      "metadata": {
        "trusted": true
      },
      "cell_type": "code",
      "source": "# Setting Up the limit on x/y-axis\nhist(data$totbill, breaks = breakpoints, main = \"How Much People Spent For a Meal\", xlab = \"Amount of Money Spent in US Dollars\", ylab = \"Number of Transactions\", xlim = c(0, 20))\nhist(data$totbill, breaks = breakpoints, main = \"How Much People Spent For a Meal\", xlab = \"Amount of Money Spent in US Dollars\", ylab = \"Number of Transactions\", ylim = c(0, 40))",
      "execution_count": null,
      "outputs": []
    },
    {
      "metadata": {},
      "cell_type": "markdown",
      "source": "Creating Conditional Histograms based on How much spent for a Meal across days and across time"
    },
    {
      "metadata": {
        "scrolled": true,
        "trusted": true
      },
      "cell_type": "code",
      "source": "library(lattice)\nhistogram(~totbill | day, data = data, main = \"How Much People Spent For a Meal - Across Days\", xlab = \"Amount of Money Spent\", ylab = \"Percent of Total\")\nhistogram(~data$totbill | data$time, main = \"How Much People Spent For a Meal - Across Time\", xlab = \"Amount of Money Spent\", ylab = \"Percent of Total\")",
      "execution_count": null,
      "outputs": []
    },
    {
      "metadata": {},
      "cell_type": "markdown",
      "source": "### Constructing Scatter Plots:"
    },
    {
      "metadata": {
        "trusted": true
      },
      "cell_type": "code",
      "source": "data = read.csv(\"Stat100_2013fall_survey01.csv\")\nhead(data)\n# Scatter plot\nplot(data$height, data$weight, xlab = \"Height\", ylab = \"Weight\", main = \"Height-Weight Relationship for Students in Stat 100\")\n# Regression Line\n# Notice that plot(x, y) and abline(lm(y~x))\nabline(lm(data$weight~data$height))\n# lm(data$weight~data$height)",
      "execution_count": null,
      "outputs": []
    },
    {
      "metadata": {
        "trusted": true
      },
      "cell_type": "code",
      "source": "# Label for Scatter Plots\ndata$genderChar = substr(data$gender, 1, 1)\ndata$genderChar = toupper(data$genderChar)\nplot(data$height, data$weight, xlab = \"Height\", ylab = \"Weight\", main = \"Height-Weight Relationship for Students in Stat 100 - Gender\", type=\"n\")\ntext(data$height, data$weight, labels=as.character(data$genderChar))",
      "execution_count": null,
      "outputs": []
    },
    {
      "metadata": {
        "trusted": true
      },
      "cell_type": "code",
      "source": "# Bonus: Color Different Categories in Scatter Plot\ndata$genderChar = replace(data$genderChar, data$genderChar == 'M', 1)\ndata$genderChar = replace(data$genderChar, data$genderChar == 'F', 2)\nclass(data$genderChar) <- \"numeric\"\nplot(data$height, data$weight, xlab = \"Height\", ylab = \"Weight\", main = \"Height-Weight Relationship for Students in Stat 100\", col = c(\"blue\", \"red\")[data$genderChar])\nlegend(\"topright\", legend = c(\"M\", \"F\"), col=c(\"blue\", \"red\"), pch=1)",
      "execution_count": null,
      "outputs": []
    },
    {
      "metadata": {
        "trusted": true
      },
      "cell_type": "code",
      "source": "plot(data$ageMother, data$ageFather, main = \"Age for Mother and Father\", xlab=\"Age of Mother\", ylab = \"Age of Father\", col = c(\"blue\", \"red\")[data$genderChar])\nlegend(\"bottomright\", legend = c(\"M\", \"F\"), col=c(\"blue\", \"red\"), pch=1)",
      "execution_count": null,
      "outputs": []
    }
  ],
  "metadata": {
    "anaconda-cloud": {},
    "kernelspec": {
      "name": "r",
      "display_name": "R",
      "language": "R"
    },
    "language_info": {
      "mimetype": "text/x-r-source",
      "name": "R",
      "pygments_lexer": "r",
      "version": "3.4.1",
      "file_extension": ".r",
      "codemirror_mode": "r"
    }
  },
  "nbformat": 4,
  "nbformat_minor": 1
}